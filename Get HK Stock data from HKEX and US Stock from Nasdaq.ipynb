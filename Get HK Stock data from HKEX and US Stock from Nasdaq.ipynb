{
 "cells": [
  {
   "cell_type": "code",
   "execution_count": 1,
   "id": "8b900f53",
   "metadata": {},
   "outputs": [],
   "source": [
    "import datetime\n",
    "from bs4 import BeautifulSoup\n",
    "import requests\n",
    "import json\n",
    "import time\n",
    "from selenium import webdriver\n",
    "import chromedriver_binary\n",
    "from selenium.webdriver.common.by import By\n",
    "from tqdm import tqdm\n",
    "import numpy as np\n",
    "import pandas as pd\n",
    "\n",
    "yesterday = datetime.datetime.now() - datetime.timedelta(1)\n",
    "yesterday_str = datetime.datetime.strftime(yesterday, '%Y%m%d')"
   ]
  },
  {
   "cell_type": "markdown",
   "id": "a1326d9f",
   "metadata": {},
   "source": [
    "# Get HK"
   ]
  },
  {
   "cell_type": "code",
   "execution_count": 2,
   "id": "31cb89a6",
   "metadata": {},
   "outputs": [],
   "source": [
    "# Get English Name of stock\n",
    "ccass_str_lst_url_en = 'https://www3.hkexnews.hk/sdw/search/ccass_stock_list.htm?sortby=stockcode&shareholdingdate='+yesterday_str\n",
    "\n",
    "browser = webdriver.Chrome()\n",
    "browser.get(ccass_str_lst_url_en)\n",
    "\n",
    "time.sleep(2)\n",
    "table_row_cnt = browser.find_element(By.XPATH, \"//table[@class='table table-list']/tbody\")\n",
    "table_str = table_row_cnt.text\n",
    "stock_lst = table_str.split(\"\\n\")\n",
    "\n",
    "stock_code_lst = []\n",
    "individual_stock = []\n",
    "group_stock_lst = []\n",
    "for i in range(len(stock_lst)):\n",
    "    stock_code = stock_lst[i][:5]\n",
    "    stock_name = stock_lst[i][6:]\n",
    "    stock_code_lst.append(stock_code)\n",
    "    individual_stock.append(stock_code)\n",
    "    individual_stock.append(stock_name)\n",
    "    group_stock_lst.append(individual_stock)\n",
    "    individual_stock = []\n",
    "\n",
    "stock_lst_df_en = pd.DataFrame(group_stock_lst)\n",
    "stock_lst_df_en.columns = ['stock_code','stock_name_en']\n",
    "\n",
    "browser.close()"
   ]
  },
  {
   "cell_type": "code",
   "execution_count": null,
   "id": "90e79d7a",
   "metadata": {},
   "outputs": [
    {
     "name": "stderr",
     "output_type": "stream",
     "text": [
      " 32%|███████████▎                       | 1759/5449 [1:59:50<3:57:49,  3.87s/it]"
     ]
    }
   ],
   "source": [
    "hk_stock_code_lst = stock_lst_df_en['stock_code'].tolist()\n",
    "\n",
    "browser = webdriver.Chrome()\n",
    "\n",
    "hk_stock_profile_lst = []\n",
    "for i in tqdm(hk_stock_code_lst):\n",
    "    stock_profile = []\n",
    "    stock_code = i.lstrip('0')\n",
    "    hkex_company = 'https://www.hkex.com.hk/Market-Data/Securities-Prices/Equities/Equities-Quote?sym='+stock_code+'&sc_lang=en'\n",
    "    \n",
    "    browser.get(hkex_company)\n",
    "    \n",
    "    time.sleep(2)\n",
    "    \n",
    "    try:\n",
    "        mkt_cap = browser.find_element(By.XPATH, '//dt[@class=\"ico_data col_mktcap\"]')\n",
    "        cap = mkt_cap.text\n",
    "        \n",
    "        lot_size = browser.find_element(By.XPATH, '//dt[@class=\"ico_data col_lotsize\"]')\n",
    "        lot = lot_size.text\n",
    "\n",
    "        sector_industry = browser.find_element(By.XPATH, '//span[@class=\"col_industry_hsic\"]')\n",
    "        sector = sector_industry.text\n",
    "\n",
    "        comp_profile = browser.find_element(By.XPATH, '//div[@class=\"company_txt col_summary\"]')\n",
    "        profile = comp_profile.text\n",
    "\n",
    "        stock_profile.append(i)\n",
    "        stock_profile.append(cap)\n",
    "        stock_profile.append(lot)\n",
    "        stock_profile.append(sector)\n",
    "        stock_profile.append(profile)\n",
    "        hk_stock_profile_lst.append(stock_profile)\n",
    "    except:\n",
    "        try:\n",
    "            mkt_cap = browser.find_element(By.XPATH, '//dt[@class=\"ico_data col_mktcap tooltip\"]')\n",
    "            cap = mkt_cap.text\n",
    "            \n",
    "            lot_size = browser.find_element(By.XPATH, '//dt[@class=\"ico_data col_lotsize\"]')\n",
    "            lot = lot_size.text\n",
    "\n",
    "            sector_industry = browser.find_element(By.XPATH, '//span[@class=\"col_industry_hsic\"]')\n",
    "            sector = sector_industry.text\n",
    "\n",
    "            comp_profile = browser.find_element(By.XPATH, '//div[@class=\"company_txt col_summary\"]')\n",
    "            profile = comp_profile.text\n",
    "\n",
    "            stock_profile.append(i)\n",
    "            stock_profile.append(cap)\n",
    "            stock_profile.append(lot)\n",
    "            stock_profile.append(sector)\n",
    "            stock_profile.append(profile)\n",
    "            hk_stock_profile_lst.append(stock_profile)\n",
    "        except:\n",
    "            continue\n",
    "\n",
    "browser.close()"
   ]
  },
  {
   "cell_type": "code",
   "execution_count": null,
   "id": "504a982a",
   "metadata": {},
   "outputs": [],
   "source": [
    "hk_stock_profile_df = pd.DataFrame(hk_stock_profile_lst,columns = ['stock_code','market_cap','lot_size','sector_industry','profile'])\n",
    "\n",
    "hk_stock_profile_df = hk_stock_profile_df.replace(r'^\\s*$', np.nan, regex=True)\n",
    "hk_stock_profile_df.dropna(inplace=True)\n",
    "hk_stock_profile_df = hk_stock_profile_df.iloc[:-1]\n",
    "hk_stock_profile_df.reset_index(drop=True,inplace=True)\n",
    "\n",
    "mkt_cap_lst = []\n",
    "for mc in hk_stock_profile_df['market_cap'].tolist():\n",
    "    if ('HK$' in mc) == True:\n",
    "        cap = mc.replace('HK$','')\n",
    "        cap = cap.replace(',','')\n",
    "        if ('B' in cap) == True:\n",
    "            full_cap = float(cap[:-1])* 1000000000\n",
    "            mkt_cap_lst.append(full_cap)\n",
    "        if ('M' in cap) ==True:\n",
    "            full_cap = float(cap[:-1])* 1000000\n",
    "            mkt_cap_lst.append(full_cap)\n",
    "    else:\n",
    "        mkt_cap_lst.append(np.nan)\n",
    "        \n",
    "hk_stock_profile_df['market_cap_long'] = mkt_cap_lst\n",
    "\n",
    "hk_stock_profile_df.dropna(inplace=True)\n",
    "hk_stock_profile_df.reset_index(drop=True,inplace=True)\n",
    "hk_stock_profile_df[['sector','sub_sector','industry','extra']] = hk_stock_profile_df['sector_industry'].str.split('-',expand=True)\n",
    "hk_stock_profile_df.fillna('',inplace=True)\n",
    "hk_stock_profile_df['industry'] = hk_stock_profile_df[\"industry\"].astype(str) + hk_stock_profile_df[\"extra\"]\n",
    "hk_stock_profile_df.drop('extra',axis=1,inplace=True)\n",
    "\n",
    "hk_stock_profile_df.head()"
   ]
  },
  {
   "cell_type": "code",
   "execution_count": null,
   "id": "fc28a229",
   "metadata": {},
   "outputs": [],
   "source": [
    "hk_stock_profile_df.to_csv('hk_stock_profile.csv',index=True)"
   ]
  },
  {
   "cell_type": "markdown",
   "id": "59682df1",
   "metadata": {},
   "source": [
    "# Get US"
   ]
  },
  {
   "cell_type": "code",
   "execution_count": null,
   "id": "75fa6a17",
   "metadata": {},
   "outputs": [],
   "source": [
    "def get_us_data():\n",
    "    # Fetch data from API\n",
    "    url = \"https://api.nasdaq.com/api/screener/stocks?tableonly=true&limit=0&offset=0&download=true\"\n",
    "\n",
    "    headers = {'user-agent':'my-app/0.0.1'}\n",
    "    \n",
    "    # To json\n",
    "    response = requests.get(url, headers = headers, timeout = None)\n",
    "    data = response.text\n",
    "    parse_json = json.loads(data)\n",
    "    row = parse_json[\"data\"][\"rows\"]\n",
    "    \n",
    "    # To dataframe\n",
    "    stk = pd.DataFrame(row)\n",
    "    df = stk[['symbol','sector','industry','marketCap']]\n",
    "    df.columns = ['stk_code','sector','industry','mkt_cap']\n",
    "    \n",
    "    df.replace('',np.nan,inplace=True)\n",
    "    df['mkt_cap'] = df['mkt_cap'].astype(float)\n",
    "    \n",
    "    return df"
   ]
  },
  {
   "cell_type": "code",
   "execution_count": null,
   "id": "f19d7931",
   "metadata": {},
   "outputs": [],
   "source": [
    "def process_us_data():\n",
    "    # Collect data\n",
    "    df = get_us_data()\n",
    "    \n",
    "    mkt_cap_lst = df['mkt_cap'].values.tolist()\n",
    "    \n",
    "    mkt_cap_gp = []\n",
    "    for i in range(len(mkt_cap_lst)):\n",
    "        cap = mkt_cap_lst[i]\n",
    "        if cap > 200000000000:\n",
    "            mkt_cap_gp.append('mega')\n",
    "        elif cap > 10000000000 and cap <= 200000000000:\n",
    "            mkt_cap_gp.append('large')\n",
    "        elif cap > 2000000000 and cap <= 10000000000:\n",
    "            mkt_cap_gp.append('medium')\n",
    "        elif cap > 300000000 and cap <= 2000000000:\n",
    "            mkt_cap_gp.append('small')\n",
    "        elif cap > 50000000 and cap <= 300000000:\n",
    "            mkt_cap_gp.append('micro')\n",
    "        elif cap <= 50000000:\n",
    "            mkt_cap_gp.append('nano')\n",
    "        else:\n",
    "            mkt_cap_gp.append(np.nan)\n",
    "            \n",
    "    df['mkt_cap_gp'] = mkt_cap_gp\n",
    "    \n",
    "    return df"
   ]
  },
  {
   "cell_type": "code",
   "execution_count": null,
   "id": "786dea04",
   "metadata": {},
   "outputs": [],
   "source": [
    "us = process_us_data()"
   ]
  },
  {
   "cell_type": "code",
   "execution_count": null,
   "id": "5b5217fb",
   "metadata": {},
   "outputs": [],
   "source": [
    "us.to_csv('all_us_stk.csv',index=False)"
   ]
  },
  {
   "cell_type": "code",
   "execution_count": null,
   "id": "9b6839a3",
   "metadata": {},
   "outputs": [],
   "source": []
  }
 ],
 "metadata": {
  "kernelspec": {
   "display_name": "Python 3 (ipykernel)",
   "language": "python",
   "name": "python3"
  },
  "language_info": {
   "codemirror_mode": {
    "name": "ipython",
    "version": 3
   },
   "file_extension": ".py",
   "mimetype": "text/x-python",
   "name": "python",
   "nbconvert_exporter": "python",
   "pygments_lexer": "ipython3",
   "version": "3.8.16"
  }
 },
 "nbformat": 4,
 "nbformat_minor": 5
}
